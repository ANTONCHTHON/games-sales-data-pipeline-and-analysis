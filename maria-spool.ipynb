{
 "cells": [
  {
   "cell_type": "code",
   "execution_count": 7,
   "id": "e71f8253",
   "metadata": {},
   "outputs": [
    {
     "name": "stdout",
     "output_type": "stream",
     "text": [
      "Defaulting to user installation because normal site-packages is not writeable\n",
      "Requirement already satisfied: mysql-connector-python in ./.local/lib/python3.8/site-packages (8.4.0)\n",
      "\u001b[33mWARNING: You are using pip version 21.2.4; however, version 24.0 is available.\n",
      "You should consider upgrading via the '/usr/local/bin/python3.8 -m pip install --upgrade pip' command.\u001b[0m\n"
     ]
    }
   ],
   "source": [
    "!pip install mysql-connector-python"
   ]
  },
  {
   "cell_type": "code",
   "execution_count": 26,
   "id": "2b27f168",
   "metadata": {},
   "outputs": [
    {
     "name": "stdout",
     "output_type": "stream",
     "text": [
      "Sucsessfully connected to MariaDB\n",
      "vgames830.csv\n",
      "vgames1660.csv\n",
      "vgames2490.csv\n",
      "vgames3320.csv\n",
      "vgames4150.csv\n",
      "vgames4980.csv\n",
      "vgames5810.csv\n",
      "vgames6640.csv\n",
      "vgames7470.csv\n",
      "vgames8300.csv\n",
      "vgames9130.csv\n",
      "vgames9960.csv\n",
      "vgames10790.csv\n",
      "vgames11620.csv\n",
      "vgames12450.csv\n",
      "vgames13280.csv\n",
      "vgames14110.csv\n",
      "vgames14940.csv\n",
      "vgames15770.csv\n",
      "vgames16599.csv\n"
     ]
    }
   ],
   "source": [
    "import mysql.connector\n",
    "import time\n",
    "import csv\n",
    "\n",
    "\n",
    "table_name = 'vgames'\n",
    "path = '/home/student/spool/'\n",
    "\n",
    "def fetch_table_to_csv(table_name, path):\n",
    "    try:\n",
    "        cnx = mysql.connector.connect(\n",
    "            host='localhost',\n",
    "            database='labs',\n",
    "            user='student',\n",
    "            password='student'\n",
    "        )\n",
    "        print(\"Sucsessfully connected to MariaDB\")\n",
    "    except mysql.connector.Error as err:\n",
    "      print(\"Something went wrong: {}\".format(err))\n",
    "    cursor = cnx.cursor()\n",
    "    cursor.execute('select count(*) from ' + table_name)\n",
    "    num_rows = cursor.fetchall()[0][0]\n",
    "    rows_limit = round(0.05*num_rows)\n",
    "    cursor.execute('select * from ' + table_name)\n",
    "    header = [row[0] for row in cursor.description]\n",
    "    rc=0\n",
    "    \n",
    "    while rc<num_rows:\n",
    "        rows = cursor.fetchmany(size=rows_limit)\n",
    "        rc = cursor.rowcount\n",
    "        file_name = f\"vgames{rc}.csv\"\n",
    "        \n",
    "        with open(path+file_name, 'w', newline='') as csvfile:\n",
    "            writer = csv.writer(csvfile)\n",
    "            writer.writerow(header)\n",
    "            writer.writerows(rows)        \n",
    "        \n",
    "        csvfile.close()\n",
    "        print(file_name)\n",
    "        time.sleep(10)\n",
    "\n",
    "    \n",
    "    cnx.close()\n",
    "    return\n",
    "\n",
    "fetch_table_to_csv(table_name, path)"
   ]
  },
  {
   "cell_type": "code",
   "execution_count": 20,
   "id": "3a502821",
   "metadata": {},
   "outputs": [
    {
     "name": "stdout",
     "output_type": "stream",
     "text": [
      "1\n",
      "16599\n"
     ]
    },
    {
     "data": {
      "text/plain": [
       "16599"
      ]
     },
     "execution_count": 20,
     "metadata": {},
     "output_type": "execute_result"
    }
   ],
   "source": [
    "table_name = 'vgames'\n",
    "try:\n",
    "    cnx = mysql.connector.connect(\n",
    "        host='localhost',\n",
    "        database='labs',\n",
    "        user='student',\n",
    "        password='student'\n",
    "    )\n",
    "except mysql.connector.Error as err:\n",
    "  print(\"Something went wrong: {}\".format(err))\n",
    "cursor = cnx.cursor()\n",
    "cursor.execute('select count(*) from ' + table_name)\n",
    "num = cursor.fetchall()[0][0]\n",
    "rc = cursor.rowcount\n",
    "print(\"%d\"%rc)\n",
    "cursor.execute('select * from ' + table_name)\n",
    "cursor.fetchall()\n",
    "rc = cursor.rowcount\n",
    "print(\"%d\"%rc)\n",
    "cnx.close()\n",
    "num"
   ]
  },
  {
   "cell_type": "code",
   "execution_count": null,
   "id": "e8802f3e",
   "metadata": {},
   "outputs": [],
   "source": []
  }
 ],
 "metadata": {
  "kernelspec": {
   "display_name": "Python 3 (ipykernel)",
   "language": "python",
   "name": "python3"
  },
  "language_info": {
   "codemirror_mode": {
    "name": "ipython",
    "version": 3
   },
   "file_extension": ".py",
   "mimetype": "text/x-python",
   "name": "python",
   "nbconvert_exporter": "python",
   "pygments_lexer": "ipython3",
   "version": "3.8.11"
  }
 },
 "nbformat": 4,
 "nbformat_minor": 5
}
