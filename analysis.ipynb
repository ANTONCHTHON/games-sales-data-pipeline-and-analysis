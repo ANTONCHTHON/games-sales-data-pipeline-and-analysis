{
 "cells": [
  {
   "cell_type": "code",
   "execution_count": 121,
   "id": "e65fff97",
   "metadata": {},
   "outputs": [],
   "source": [
    "import pandas as pd\n",
    "from matplotlib import pyplot as plt\n",
    "import numpy as np"
   ]
  },
  {
   "cell_type": "code",
   "execution_count": 124,
   "id": "9b0c8bc8",
   "metadata": {
    "scrolled": true
   },
   "outputs": [
    {
     "name": "stdout",
     "output_type": "stream",
     "text": [
      "root\n",
      " |-- Rank: string (nullable = true)\n",
      " |-- Name: string (nullable = true)\n",
      " |-- Platform: string (nullable = true)\n",
      " |-- Year: string (nullable = true)\n",
      " |-- Genre: string (nullable = true)\n",
      " |-- Publisher: string (nullable = true)\n",
      " |-- NA_Sales: string (nullable = true)\n",
      " |-- EU_Sales: string (nullable = true)\n",
      " |-- JP_Sales: string (nullable = true)\n",
      " |-- Other_Sales: string (nullable = true)\n",
      " |-- Global_Sales: string (nullable = true)\n",
      "\n"
     ]
    }
   ],
   "source": [
    "df_vg.printSchema()"
   ]
  },
  {
   "cell_type": "code",
   "execution_count": 125,
   "id": "76a6a372",
   "metadata": {},
   "outputs": [
    {
     "name": "stdout",
     "output_type": "stream",
     "text": [
      "+----+--------------------+--------+----+------------+---------+--------+--------+--------+-----------+------------+\n",
      "|Rank|                Name|Platform|Year|       Genre|Publisher|NA_Sales|EU_Sales|JP_Sales|Other_Sales|Global_Sales|\n",
      "+----+--------------------+--------+----+------------+---------+--------+--------+--------+-----------+------------+\n",
      "|   1|          Wii Sports|     Wii|2006|      Sports| Nintendo|   41.49|   29.02|    3.77|       8.46|       82.74|\n",
      "|   2|   Super Mario Bros.|     NES|1985|    Platform| Nintendo|   29.08|    3.58|    6.81|       0.77|       40.24|\n",
      "|   3|      Mario Kart Wii|     Wii|2008|      Racing| Nintendo|   15.85|   12.88|    3.79|       3.31|       35.82|\n",
      "|   4|   Wii Sports Resort|     Wii|2009|      Sports| Nintendo|   15.75|   11.01|    3.28|       2.96|          33|\n",
      "|   5|Pokemon Red/Pokem...|      GB|1996|Role-Playing| Nintendo|   11.27|    8.89|   10.22|          1|       31.37|\n",
      "|   6|              Tetris|      GB|1989|      Puzzle| Nintendo|    23.2|    2.26|    4.22|       0.58|       30.26|\n",
      "+----+--------------------+--------+----+------------+---------+--------+--------+--------+-----------+------------+\n",
      "only showing top 6 rows\n",
      "\n"
     ]
    }
   ],
   "source": [
    "df_vg.show(6)"
   ]
  },
  {
   "cell_type": "code",
   "execution_count": 126,
   "id": "22db53e9",
   "metadata": {},
   "outputs": [],
   "source": [
    "cat_cols = ['platform','genre','publisher']\n",
    "num_cols = ['na_sales','eu_sales','jp_sales', 'other_sales', 'global_sales']"
   ]
  },
  {
   "cell_type": "code",
   "execution_count": 127,
   "id": "7b34409d",
   "metadata": {},
   "outputs": [],
   "source": [
    "df = df_vg.toPandas()"
   ]
  },
  {
   "cell_type": "code",
   "execution_count": 128,
   "id": "736e64f3",
   "metadata": {},
   "outputs": [],
   "source": [
    "df.columns = map(str.lower, df.columns)"
   ]
  },
  {
   "cell_type": "code",
   "execution_count": 129,
   "id": "ef615278",
   "metadata": {},
   "outputs": [],
   "source": [
    "df.set_index('rank', inplace=True)"
   ]
  },
  {
   "cell_type": "code",
   "execution_count": 130,
   "id": "f84792eb",
   "metadata": {},
   "outputs": [],
   "source": [
    "df=df.drop(df[df.year == 'N/A'].index)"
   ]
  },
  {
   "cell_type": "code",
   "execution_count": 131,
   "id": "c2cbe0db",
   "metadata": {},
   "outputs": [],
   "source": [
    "#df = df.drop([0])\n",
    "df = df.astype({'year':'int'})\n",
    "df=df.drop(df[df.year == 0].index)"
   ]
  },
  {
   "cell_type": "code",
   "execution_count": 132,
   "id": "46fa72d3",
   "metadata": {},
   "outputs": [],
   "source": [
    "for n in num_cols:\n",
    "    df[n] = pd.to_numeric(df[n])"
   ]
  },
  {
   "cell_type": "code",
   "execution_count": 133,
   "id": "a2f4c405",
   "metadata": {},
   "outputs": [
    {
     "data": {
      "text/html": [
       "<div>\n",
       "<style scoped>\n",
       "    .dataframe tbody tr th:only-of-type {\n",
       "        vertical-align: middle;\n",
       "    }\n",
       "\n",
       "    .dataframe tbody tr th {\n",
       "        vertical-align: top;\n",
       "    }\n",
       "\n",
       "    .dataframe thead th {\n",
       "        text-align: right;\n",
       "    }\n",
       "</style>\n",
       "<table border=\"1\" class=\"dataframe\">\n",
       "  <thead>\n",
       "    <tr style=\"text-align: right;\">\n",
       "      <th></th>\n",
       "      <th>name</th>\n",
       "      <th>platform</th>\n",
       "      <th>year</th>\n",
       "      <th>genre</th>\n",
       "      <th>publisher</th>\n",
       "      <th>na_sales</th>\n",
       "      <th>eu_sales</th>\n",
       "      <th>jp_sales</th>\n",
       "      <th>other_sales</th>\n",
       "      <th>global_sales</th>\n",
       "    </tr>\n",
       "    <tr>\n",
       "      <th>rank</th>\n",
       "      <th></th>\n",
       "      <th></th>\n",
       "      <th></th>\n",
       "      <th></th>\n",
       "      <th></th>\n",
       "      <th></th>\n",
       "      <th></th>\n",
       "      <th></th>\n",
       "      <th></th>\n",
       "      <th></th>\n",
       "    </tr>\n",
       "  </thead>\n",
       "  <tbody>\n",
       "    <tr>\n",
       "      <th>1</th>\n",
       "      <td>Wii Sports</td>\n",
       "      <td>Wii</td>\n",
       "      <td>2006</td>\n",
       "      <td>Sports</td>\n",
       "      <td>Nintendo</td>\n",
       "      <td>41.49</td>\n",
       "      <td>29.02</td>\n",
       "      <td>3.77</td>\n",
       "      <td>8.46</td>\n",
       "      <td>82.74</td>\n",
       "    </tr>\n",
       "    <tr>\n",
       "      <th>2</th>\n",
       "      <td>Super Mario Bros.</td>\n",
       "      <td>NES</td>\n",
       "      <td>1985</td>\n",
       "      <td>Platform</td>\n",
       "      <td>Nintendo</td>\n",
       "      <td>29.08</td>\n",
       "      <td>3.58</td>\n",
       "      <td>6.81</td>\n",
       "      <td>0.77</td>\n",
       "      <td>40.24</td>\n",
       "    </tr>\n",
       "    <tr>\n",
       "      <th>3</th>\n",
       "      <td>Mario Kart Wii</td>\n",
       "      <td>Wii</td>\n",
       "      <td>2008</td>\n",
       "      <td>Racing</td>\n",
       "      <td>Nintendo</td>\n",
       "      <td>15.85</td>\n",
       "      <td>12.88</td>\n",
       "      <td>3.79</td>\n",
       "      <td>3.31</td>\n",
       "      <td>35.82</td>\n",
       "    </tr>\n",
       "    <tr>\n",
       "      <th>4</th>\n",
       "      <td>Wii Sports Resort</td>\n",
       "      <td>Wii</td>\n",
       "      <td>2009</td>\n",
       "      <td>Sports</td>\n",
       "      <td>Nintendo</td>\n",
       "      <td>15.75</td>\n",
       "      <td>11.01</td>\n",
       "      <td>3.28</td>\n",
       "      <td>2.96</td>\n",
       "      <td>33.00</td>\n",
       "    </tr>\n",
       "    <tr>\n",
       "      <th>5</th>\n",
       "      <td>Pokemon Red/Pokemon Blue</td>\n",
       "      <td>GB</td>\n",
       "      <td>1996</td>\n",
       "      <td>Role-Playing</td>\n",
       "      <td>Nintendo</td>\n",
       "      <td>11.27</td>\n",
       "      <td>8.89</td>\n",
       "      <td>10.22</td>\n",
       "      <td>1.00</td>\n",
       "      <td>31.37</td>\n",
       "    </tr>\n",
       "  </tbody>\n",
       "</table>\n",
       "</div>"
      ],
      "text/plain": [
       "                          name platform  year         genre publisher  \\\n",
       "rank                                                                    \n",
       "1                   Wii Sports      Wii  2006        Sports  Nintendo   \n",
       "2            Super Mario Bros.      NES  1985      Platform  Nintendo   \n",
       "3               Mario Kart Wii      Wii  2008        Racing  Nintendo   \n",
       "4            Wii Sports Resort      Wii  2009        Sports  Nintendo   \n",
       "5     Pokemon Red/Pokemon Blue       GB  1996  Role-Playing  Nintendo   \n",
       "\n",
       "      na_sales  eu_sales  jp_sales  other_sales  global_sales  \n",
       "rank                                                           \n",
       "1        41.49     29.02      3.77         8.46         82.74  \n",
       "2        29.08      3.58      6.81         0.77         40.24  \n",
       "3        15.85     12.88      3.79         3.31         35.82  \n",
       "4        15.75     11.01      3.28         2.96         33.00  \n",
       "5        11.27      8.89     10.22         1.00         31.37  "
      ]
     },
     "execution_count": 133,
     "metadata": {},
     "output_type": "execute_result"
    }
   ],
   "source": [
    "df.head()"
   ]
  },
  {
   "cell_type": "code",
   "execution_count": 134,
   "id": "96212b8c",
   "metadata": {},
   "outputs": [
    {
     "data": {
      "text/plain": [
       "name            False\n",
       "platform        False\n",
       "year            False\n",
       "genre           False\n",
       "publisher       False\n",
       "na_sales        False\n",
       "eu_sales        False\n",
       "jp_sales        False\n",
       "other_sales     False\n",
       "global_sales    False\n",
       "dtype: bool"
      ]
     },
     "execution_count": 134,
     "metadata": {},
     "output_type": "execute_result"
    }
   ],
   "source": [
    "df.isnull().all()"
   ]
  },
  {
   "cell_type": "code",
   "execution_count": 135,
   "id": "20507f52",
   "metadata": {},
   "outputs": [
    {
     "name": "stdout",
     "output_type": "stream",
     "text": [
      "Number of platforms: 31\n",
      "Types of platforms:\n",
      " ['Wii' 'NES' 'GB' 'DS' 'X360' 'PS3' 'PS2' 'SNES' 'GBA' '3DS' 'PS4' 'N64'\n",
      " 'PS' 'XB' 'PC' '2600' 'PSP' 'XOne' 'GC' 'WiiU' 'GEN' 'DC' 'PSV' 'SAT'\n",
      " 'SCD' 'WS' 'NG' 'TG16' '3DO' 'GG' 'PCFX']\n"
     ]
    }
   ],
   "source": [
    "platforms = df[cat_cols[0]].unique()\n",
    "print(\"Number of platforms:\",len(platforms))\n",
    "print(\"Types of platforms:\\n\",platforms)"
   ]
  },
  {
   "cell_type": "code",
   "execution_count": 136,
   "id": "4b67d62a",
   "metadata": {
    "scrolled": true
   },
   "outputs": [
    {
     "name": "stdout",
     "output_type": "stream",
     "text": [
      "Number of genres: 12\n",
      "Genres:\n",
      " ['Sports' 'Platform' 'Racing' 'Role-Playing' 'Puzzle' 'Misc' 'Shooter'\n",
      " 'Simulation' 'Action' 'Fighting' 'Adventure' 'Strategy']\n"
     ]
    }
   ],
   "source": [
    "genres = df[cat_cols[1]].unique()\n",
    "print(\"Number of genres:\",len(genres))\n",
    "print(\"Genres:\\n\",genres)"
   ]
  },
  {
   "cell_type": "code",
   "execution_count": 137,
   "id": "0e255a13",
   "metadata": {},
   "outputs": [
    {
     "name": "stdout",
     "output_type": "stream",
     "text": [
      "Number of publishers: 577\n",
      "Publishers:\n",
      " ['Nintendo' 'Microsoft Game Studios' 'Take-Two Interactive'\n",
      " 'Sony Computer Entertainment' 'Activision' 'Ubisoft' 'Bethesda Softworks'\n",
      " 'Electronic Arts' 'Sega' 'SquareSoft' 'Atari' '505 Games' 'Capcom'\n",
      " 'GT Interactive' 'Konami Digital Entertainment'\n",
      " 'Sony Computer Entertainment Europe' 'Square Enix' 'LucasArts'\n",
      " 'Virgin Interactive' 'Warner Bros. Interactive Entertainment'\n",
      " 'Universal Interactive' 'Eidos Interactive' 'RedOctane' 'Vivendi Games'\n",
      " 'Enix Corporation' 'Namco Bandai Games' 'Palcom' 'Hasbro Interactive'\n",
      " 'THQ' 'Fox Interactive' 'Acclaim Entertainment' 'MTV Games'\n",
      " 'Disney Interactive Studios' 'Majesco Entertainment' 'Codemasters'\n",
      " 'Red Orb' 'Level 5' 'Arena Entertainment' 'Midway Games' 'JVC'\n",
      " 'Deep Silver' '989 Studios' 'NCSoft' 'UEP Systems' 'Parker Bros.' 'Maxis'\n",
      " 'Imagic' 'Tecmo Koei' 'Valve Software' 'ASCII Entertainment' 'Mindscape'\n",
      " 'Infogrames' 'Unknown' 'Square' 'Valve' 'Activision Value' 'Banpresto'\n",
      " 'D3Publisher' 'Oxygen Interactive' 'Red Storm Entertainment'\n",
      " 'Video System' 'Hello Games' 'Global Star' 'Gotham Games'\n",
      " 'Westwood Studios' 'GungHo' 'Crave Entertainment' 'Hudson Soft' 'Coleco'\n",
      " 'Rising Star Games' 'Atlus' 'TDK Mediactive' 'ASC Games' 'Zoo Games'\n",
      " 'Accolade' 'Sony Online Entertainment' '3DO' 'RTL' 'Natsume'\n",
      " 'Focus Home Interactive' 'Alchemist' 'N/A' 'Black Label Games'\n",
      " 'SouthPeak Games' 'Mastertronic' 'Ocean' 'Zoo Digital Publishing'\n",
      " 'Psygnosis' 'City Interactive' 'Empire Interactive' 'Success' 'Compile'\n",
      " 'Russel' 'Taito' 'Agetec' 'GSP' 'Microprose' 'Play It'\n",
      " 'Slightly Mad Studios' 'Tomy Corporation' 'Sammy Corporation'\n",
      " 'Koch Media' 'Game Factory' 'Titus' 'Marvelous Entertainment' 'Genki'\n",
      " 'Mojang' 'Pinnacle' 'CTO SpA' 'TalonSoft' 'Crystal Dynamics' 'SCi'\n",
      " 'Quelle' 'mixi, Inc' 'Rage Software' 'Ubisoft Annecy' 'Scholastic Inc.'\n",
      " 'Interplay' 'Mystique' 'ChunSoft' 'Square EA'\n",
      " '20th Century Fox Video Games' 'Avanquest Software'\n",
      " 'Hudson Entertainment' 'Nordic Games' 'Men-A-Vision' 'Nobilis'\n",
      " 'Big Ben Interactive' 'Touchstone' 'Spike' 'Jester Interactive'\n",
      " 'Nippon Ichi Software' 'LEGO Media' 'Quest' 'Illusion Softworks'\n",
      " 'Tigervision' 'Funbox Media' 'Rocket Company' 'Metro 3D'\n",
      " 'Mattel Interactive' 'IE Institute' 'Rondomedia'\n",
      " 'Sony Computer Entertainment America' 'Universal Gamex' 'Ghostlight'\n",
      " 'Wizard Video Games' 'BMG Interactive Entertainment' 'PQube'\n",
      " 'Trion Worlds' 'Laguna' 'Ignition Entertainment' 'Takara'\n",
      " 'Kadokawa Shoten' 'Destineer' 'Enterbrain' 'Xseed Games' 'Imagineer'\n",
      " 'System 3 Arcade Software' 'CPG Products' 'Aruze Corp' 'Gamebridge'\n",
      " 'Midas Interactive Entertainment' 'Jaleco' 'Answer Software' 'XS Games'\n",
      " 'Activision Blizzard' 'Pack In Soft' 'Rebellion' 'Xplosiv'\n",
      " 'GameMill Entertainment' 'Wanadoo' 'NovaLogic' 'Telltale Games' 'Epoch'\n",
      " 'BAM! Entertainment' 'Knowledge Adventure' 'Mastiff' 'Tetris Online'\n",
      " 'Harmonix Music Systems' 'ESP' 'TYO' 'Telegames' 'Mud Duck Productions'\n",
      " 'Screenlife' 'Pioneer LDC' 'Magical Company' 'Mentor Interactive' 'Kemco'\n",
      " 'Human Entertainment' 'Avanquest' 'Data Age' 'Electronic Arts Victor'\n",
      " 'Black Bean Games' 'Jack of All Games' '989 Sports' 'Takara Tomy'\n",
      " 'Media Rings' 'Elf' 'Starfish' 'Zushi Games' 'Jorudan'\n",
      " 'Destination Software, Inc' 'New' 'Brash Entertainment'\n",
      " 'ITT Family Games' 'PopCap Games' 'Home Entertainment Suppliers'\n",
      " 'Ackkstudios' 'Starpath Corp.' 'P2 Games' 'BPS' 'Gathering of Developers'\n",
      " 'NewKidCo' 'Storm City Games' 'CokeM Interactive' 'CBS Electronics'\n",
      " 'Magix' 'Marvelous Interactive' 'Kalypso Media'\n",
      " 'Nihon Falcom Corporation' 'Wargaming.net' 'Angel Studios'\n",
      " 'Arc System Works' 'Playmates' 'SNK Playmore' 'Hamster Corporation'\n",
      " 'From Software' 'Nippon Columbia' 'Nichibutsu' 'Little Orbit'\n",
      " 'Conspiracy Entertainment' 'DTP Entertainment' 'Hect' 'Mumbo Jumbo'\n",
      " 'Pacific Century Cyber Works' 'Indie Games' 'Liquid Games' 'NEC' 'Axela'\n",
      " 'ArtDink' 'Sunsoft' 'Gust' 'SNK' 'NEC Interchannel' 'FuRyu'\n",
      " 'Xing Entertainment' 'ValuSoft' 'Victor Interactive' 'Detn8 Games'\n",
      " 'American Softworks' 'Nordcurrent' 'Bomb' 'Falcom Corporation'\n",
      " 'AQ Interactive' 'CCP' 'Milestone S.r.l.' 'JoWood Productions'\n",
      " 'Seta Corporation' 'On Demand' 'NCS' 'Aspyr' 'Gremlin Interactive Ltd'\n",
      " 'Agatsuma Entertainment' 'Compile Heart' 'Culture Brain' 'Mad Catz'\n",
      " 'Shogakukan' 'Merscom LLC' 'Rebellion Developments' 'Nippon Telenet'\n",
      " 'TDK Core' 'bitComposer Games' 'Foreign Media Games' 'Astragon' 'SSI'\n",
      " 'Kadokawa Games' 'Idea Factory' 'Performance Designed Products'\n",
      " 'Asylum Entertainment' 'Core Design Ltd.' 'PlayV' 'UFO Interactive'\n",
      " 'Idea Factory International' 'Playlogic Game Factory' 'Essential Games'\n",
      " 'Adeline Software' 'Funcom' 'Panther Software' 'Blast! Entertainment Ltd'\n",
      " 'Game Life' 'DSI Games' 'Avalon Interactive' 'Popcorn Arcade'\n",
      " 'Neko Entertainment' 'Vir2L Studios' 'Aques' 'Syscom'\n",
      " 'White Park Bay Software' 'System 3' 'Vatical Entertainment' 'Daedalic'\n",
      " 'EA Games' 'Media Factory' 'Vic Tokai' 'The Adventure Company'\n",
      " 'Game Arts' 'Broccoli' 'Acquire' 'General Entertainment'\n",
      " 'Excalibur Publishing' 'Imadio' 'Swing! Entertainment'\n",
      " 'Sony Music Entertainment' 'Aqua Plus' 'Paradox Interactive'\n",
      " 'Hip Interactive' 'DreamCatcher Interactive' 'Tripwire Interactive'\n",
      " 'Sting' 'Yacht Club Games' 'SCS Software' 'Bigben Interactive'\n",
      " 'Havas Interactive' 'Slitherine Software' 'Graffiti' 'Funsta' 'Telstar'\n",
      " 'U.S. Gold' 'DreamWorks Interactive' 'Data Design Interactive' 'MTO'\n",
      " 'DHM Interactive' 'FunSoft' 'SPS' 'Bohemia Interactive'\n",
      " 'Reef Entertainment' 'Tru Blu Entertainment' 'Moss' 'T&E Soft' 'O-Games'\n",
      " 'Aksys Games' 'NDA Productions' 'Data East' 'Time Warner Interactive'\n",
      " 'Gainax Network Systems' 'Daito' 'O3 Entertainment' 'Gameloft'\n",
      " 'Xicat Interactive' 'Simon & Schuster Interactive' 'Valcon Games'\n",
      " 'PopTop Software' 'TOHO' 'HMH Interactive' '5pb' 'Cave'\n",
      " 'CDV Software Entertainment' 'Microids' 'PM Studios' 'Paon' 'Micro Cabin'\n",
      " 'GameTek' 'Benesse' 'Type-Moon' 'Enjoy Gaming ltd.' 'Asmik Corp'\n",
      " 'Interplay Productions' 'Asmik Ace Entertainment' 'inXile Entertainment'\n",
      " 'Image Epoch' 'Phantom EFX' 'Evolved Games' 'responDESIGN'\n",
      " 'Culture Publishers' 'Griffin International' 'Hackberry' 'Hearty Robin'\n",
      " 'Nippon Amuse' 'Origin Systems' 'Seventh Chord' 'Mitsui' 'Milestone'\n",
      " 'Abylight' 'Flight-Plan' 'Glams' 'Locus' 'Warp' 'Daedalic Entertainment'\n",
      " 'Alternative Software' 'Myelin Media' 'Mercury Games'\n",
      " 'Irem Software Engineering' 'Sunrise Interactive' 'Elite'\n",
      " 'Evolution Games' 'Tivola' 'Global A Entertainment' 'Edia' 'Athena'\n",
      " 'Aria' 'Gamecock' 'Tommo' 'Altron' 'Happinet' 'iWin' 'Media Works'\n",
      " 'Fortyfive' 'Revolution Software' 'Imax' 'Crimson Cow' '10TACLE Studios'\n",
      " 'Groove Games' 'Pack-In-Video' 'Insomniac Games'\n",
      " 'Ascaron Entertainment GmbH' 'Asgard' 'Ecole' 'Yumedia' 'Phenomedia'\n",
      " 'HAL Laboratory' 'Grand Prix Games' 'DigiCube' 'Creative Core'\n",
      " 'Kaga Create' 'WayForward Technologies' 'LSP Games' 'ASCII Media Works'\n",
      " 'Coconuts Japan' 'Arika' 'Ertain' 'Marvel Entertainment' 'Prototype'\n",
      " 'Phantagram' '1C Company' 'The Learning Company' 'TechnoSoft' 'Vap'\n",
      " 'Misawa' 'Tradewest' 'Team17 Software' 'Yeti' 'Pow' 'Navarre Corp'\n",
      " 'MediaQuest' 'Max Five' 'Comfort' 'Monte Christo Multimedia'\n",
      " 'Pony Canyon' 'Riverhillsoft' 'Summitsoft' 'Milestone S.r.l' 'Playmore'\n",
      " 'MLB.com' 'Kool Kizz' 'Flashpoint Games' '49Games' 'Legacy Interactive'\n",
      " 'Alawar Entertainment' 'CyberFront' 'Cloud Imperium Games Corporation'\n",
      " 'Societa' 'Virtual Play Games' 'Interchannel' 'Sonnet' 'Experience Inc.'\n",
      " 'Zenrin' 'Iceberg Interactive' 'Ivolgamus' '2D Boy' 'MC2 Entertainment'\n",
      " 'Kando Games' 'Just Flight' 'Office Create' 'Mamba Games' 'Fields'\n",
      " 'Princess Soft' 'Maximum Family Games' 'Berkeley' 'Fuji'\n",
      " 'Dusenberry Martin Racing' 'imageepoch Inc.' 'Big Fish Games'\n",
      " 'Her Interactive' 'Kamui' 'ASK' 'TopWare Interactive' 'Headup Games'\n",
      " 'KSS' 'Cygames' 'KID' 'Quinrose' 'Sunflowers' 'dramatic create' 'TGL'\n",
      " 'Encore' 'Extreme Entertainment Group' 'Intergrow' 'G.Rev' 'Sweets'\n",
      " 'Kokopeli Digital Studios' 'Number None' 'Nexon' 'id Software'\n",
      " 'BushiRoad' 'Tryfirst' 'Strategy First' '7G//AMES' 'GN Software' \"Yuke's\"\n",
      " 'Easy Interactive' 'Licensed 4U' 'FuRyu Corporation'\n",
      " 'Lexicon Entertainment' 'Paon Corporation' 'Kids Station' 'GOA'\n",
      " 'Graphsim Entertainment' 'King Records' 'Introversion Software'\n",
      " 'Minato Station' 'Devolver Digital' 'Blue Byte' 'Gaga'\n",
      " 'Yamasa Entertainment' 'Plenty' 'Views' 'fonfun' 'NetRevo'\n",
      " 'Codemasters Online' 'Quintet' 'Phoenix Games' 'Dorart' 'Marvelous Games'\n",
      " 'Focus Multimedia' 'Imageworks' 'Karin Entertainment' 'Aerosoft'\n",
      " 'Technos Japan Corporation' 'Gakken' 'Mirai Shounen' 'Datam Polystar'\n",
      " 'Saurus' 'HuneX' 'Revolution (Japan)' 'Giza10' 'Visco' 'Alvion' 'Mycom'\n",
      " 'Giga' 'Warashi' 'System Soft' 'Sold Out' 'Lighthouse Interactive'\n",
      " 'Masque Publishing' 'RED Entertainment' 'Michaelsoft'\n",
      " 'Media Entertainment' 'New World Computing' 'Genterprise'\n",
      " 'Interworks Unlimited, Inc.' 'Boost On' 'Stainless Games'\n",
      " 'EON Digital Entertainment' 'Epic Games' 'Naxat Soft'\n",
      " 'Ascaron Entertainment' 'Piacci' 'Nitroplus' 'Paradox Development'\n",
      " 'Otomate' 'Ongakukan' 'Commseed' 'Inti Creates' 'Takuyo'\n",
      " 'Interchannel-Holon' 'Rain Games' 'UIG Entertainment']\n"
     ]
    }
   ],
   "source": [
    "publishers = df[cat_cols[2]].unique()\n",
    "print(\"Number of publishers:\",len(publishers))\n",
    "print(\"Publishers:\\n\",publishers)"
   ]
  },
  {
   "cell_type": "code",
   "execution_count": 138,
   "id": "1b4ee1b6",
   "metadata": {},
   "outputs": [
    {
     "data": {
      "text/html": [
       "<div>\n",
       "<style scoped>\n",
       "    .dataframe tbody tr th:only-of-type {\n",
       "        vertical-align: middle;\n",
       "    }\n",
       "\n",
       "    .dataframe tbody tr th {\n",
       "        vertical-align: top;\n",
       "    }\n",
       "\n",
       "    .dataframe thead th {\n",
       "        text-align: right;\n",
       "    }\n",
       "</style>\n",
       "<table border=\"1\" class=\"dataframe\">\n",
       "  <thead>\n",
       "    <tr style=\"text-align: right;\">\n",
       "      <th></th>\n",
       "      <th>na_sales</th>\n",
       "      <th>eu_sales</th>\n",
       "      <th>jp_sales</th>\n",
       "      <th>other_sales</th>\n",
       "      <th>global_sales</th>\n",
       "    </tr>\n",
       "  </thead>\n",
       "  <tbody>\n",
       "    <tr>\n",
       "      <th>count</th>\n",
       "      <td>16327.000000</td>\n",
       "      <td>16327.000000</td>\n",
       "      <td>16327.000000</td>\n",
       "      <td>16327.000000</td>\n",
       "      <td>16327.000000</td>\n",
       "    </tr>\n",
       "    <tr>\n",
       "      <th>mean</th>\n",
       "      <td>0.265415</td>\n",
       "      <td>0.147554</td>\n",
       "      <td>0.078661</td>\n",
       "      <td>0.048325</td>\n",
       "      <td>0.540232</td>\n",
       "    </tr>\n",
       "    <tr>\n",
       "      <th>std</th>\n",
       "      <td>0.821591</td>\n",
       "      <td>0.508766</td>\n",
       "      <td>0.311557</td>\n",
       "      <td>0.189885</td>\n",
       "      <td>1.565732</td>\n",
       "    </tr>\n",
       "    <tr>\n",
       "      <th>min</th>\n",
       "      <td>0.000000</td>\n",
       "      <td>0.000000</td>\n",
       "      <td>0.000000</td>\n",
       "      <td>0.000000</td>\n",
       "      <td>0.010000</td>\n",
       "    </tr>\n",
       "    <tr>\n",
       "      <th>25%</th>\n",
       "      <td>0.000000</td>\n",
       "      <td>0.000000</td>\n",
       "      <td>0.000000</td>\n",
       "      <td>0.000000</td>\n",
       "      <td>0.060000</td>\n",
       "    </tr>\n",
       "    <tr>\n",
       "      <th>50%</th>\n",
       "      <td>0.080000</td>\n",
       "      <td>0.020000</td>\n",
       "      <td>0.000000</td>\n",
       "      <td>0.010000</td>\n",
       "      <td>0.170000</td>\n",
       "    </tr>\n",
       "    <tr>\n",
       "      <th>75%</th>\n",
       "      <td>0.240000</td>\n",
       "      <td>0.110000</td>\n",
       "      <td>0.040000</td>\n",
       "      <td>0.040000</td>\n",
       "      <td>0.480000</td>\n",
       "    </tr>\n",
       "    <tr>\n",
       "      <th>max</th>\n",
       "      <td>41.490000</td>\n",
       "      <td>29.020000</td>\n",
       "      <td>10.220000</td>\n",
       "      <td>10.570000</td>\n",
       "      <td>82.740000</td>\n",
       "    </tr>\n",
       "  </tbody>\n",
       "</table>\n",
       "</div>"
      ],
      "text/plain": [
       "           na_sales      eu_sales      jp_sales   other_sales  global_sales\n",
       "count  16327.000000  16327.000000  16327.000000  16327.000000  16327.000000\n",
       "mean       0.265415      0.147554      0.078661      0.048325      0.540232\n",
       "std        0.821591      0.508766      0.311557      0.189885      1.565732\n",
       "min        0.000000      0.000000      0.000000      0.000000      0.010000\n",
       "25%        0.000000      0.000000      0.000000      0.000000      0.060000\n",
       "50%        0.080000      0.020000      0.000000      0.010000      0.170000\n",
       "75%        0.240000      0.110000      0.040000      0.040000      0.480000\n",
       "max       41.490000     29.020000     10.220000     10.570000     82.740000"
      ]
     },
     "execution_count": 138,
     "metadata": {},
     "output_type": "execute_result"
    }
   ],
   "source": [
    "df[num_cols].describe()"
   ]
  },
  {
   "cell_type": "code",
   "execution_count": 139,
   "id": "1d8800be",
   "metadata": {},
   "outputs": [],
   "source": [
    "def cnt_decade(x):\n",
    "    if x <= 1979:\n",
    "        return '-79'\n",
    "    elif x<=1989:\n",
    "        return '80-89'\n",
    "    elif x<=1999: \n",
    "        return '90-99' \n",
    "    elif x<=2009:\n",
    "        return '00-09' \n",
    "    else: \n",
    "        return '10-20' \n",
    "df['decade'] = df['year'].apply ( lambda x: cnt_decade(x) )\n"
   ]
  },
  {
   "cell_type": "code",
   "execution_count": 140,
   "id": "9594c289",
   "metadata": {},
   "outputs": [],
   "source": [
    "df_pop = df[df.global_sales>0.3]"
   ]
  },
  {
   "cell_type": "code",
   "execution_count": 141,
   "id": "aa06cc50",
   "metadata": {},
   "outputs": [
    {
     "data": {
      "text/html": [
       "<div>\n",
       "<style scoped>\n",
       "    .dataframe tbody tr th:only-of-type {\n",
       "        vertical-align: middle;\n",
       "    }\n",
       "\n",
       "    .dataframe tbody tr th {\n",
       "        vertical-align: top;\n",
       "    }\n",
       "\n",
       "    .dataframe thead th {\n",
       "        text-align: right;\n",
       "    }\n",
       "</style>\n",
       "<table border=\"1\" class=\"dataframe\">\n",
       "  <thead>\n",
       "    <tr style=\"text-align: right;\">\n",
       "      <th></th>\n",
       "      <th>name</th>\n",
       "      <th>platform</th>\n",
       "      <th>year</th>\n",
       "      <th>genre</th>\n",
       "      <th>publisher</th>\n",
       "      <th>na_sales</th>\n",
       "      <th>eu_sales</th>\n",
       "      <th>jp_sales</th>\n",
       "      <th>other_sales</th>\n",
       "      <th>global_sales</th>\n",
       "      <th>decade</th>\n",
       "    </tr>\n",
       "    <tr>\n",
       "      <th>rank</th>\n",
       "      <th></th>\n",
       "      <th></th>\n",
       "      <th></th>\n",
       "      <th></th>\n",
       "      <th></th>\n",
       "      <th></th>\n",
       "      <th></th>\n",
       "      <th></th>\n",
       "      <th></th>\n",
       "      <th></th>\n",
       "      <th></th>\n",
       "    </tr>\n",
       "  </thead>\n",
       "  <tbody>\n",
       "    <tr>\n",
       "      <th>1</th>\n",
       "      <td>Wii Sports</td>\n",
       "      <td>Wii</td>\n",
       "      <td>2006</td>\n",
       "      <td>Sports</td>\n",
       "      <td>Nintendo</td>\n",
       "      <td>41.49</td>\n",
       "      <td>29.02</td>\n",
       "      <td>3.77</td>\n",
       "      <td>8.46</td>\n",
       "      <td>82.74</td>\n",
       "      <td>00-09</td>\n",
       "    </tr>\n",
       "    <tr>\n",
       "      <th>2</th>\n",
       "      <td>Super Mario Bros.</td>\n",
       "      <td>NES</td>\n",
       "      <td>1985</td>\n",
       "      <td>Platform</td>\n",
       "      <td>Nintendo</td>\n",
       "      <td>29.08</td>\n",
       "      <td>3.58</td>\n",
       "      <td>6.81</td>\n",
       "      <td>0.77</td>\n",
       "      <td>40.24</td>\n",
       "      <td>80-89</td>\n",
       "    </tr>\n",
       "    <tr>\n",
       "      <th>3</th>\n",
       "      <td>Mario Kart Wii</td>\n",
       "      <td>Wii</td>\n",
       "      <td>2008</td>\n",
       "      <td>Racing</td>\n",
       "      <td>Nintendo</td>\n",
       "      <td>15.85</td>\n",
       "      <td>12.88</td>\n",
       "      <td>3.79</td>\n",
       "      <td>3.31</td>\n",
       "      <td>35.82</td>\n",
       "      <td>00-09</td>\n",
       "    </tr>\n",
       "    <tr>\n",
       "      <th>4</th>\n",
       "      <td>Wii Sports Resort</td>\n",
       "      <td>Wii</td>\n",
       "      <td>2009</td>\n",
       "      <td>Sports</td>\n",
       "      <td>Nintendo</td>\n",
       "      <td>15.75</td>\n",
       "      <td>11.01</td>\n",
       "      <td>3.28</td>\n",
       "      <td>2.96</td>\n",
       "      <td>33.00</td>\n",
       "      <td>00-09</td>\n",
       "    </tr>\n",
       "    <tr>\n",
       "      <th>5</th>\n",
       "      <td>Pokemon Red/Pokemon Blue</td>\n",
       "      <td>GB</td>\n",
       "      <td>1996</td>\n",
       "      <td>Role-Playing</td>\n",
       "      <td>Nintendo</td>\n",
       "      <td>11.27</td>\n",
       "      <td>8.89</td>\n",
       "      <td>10.22</td>\n",
       "      <td>1.00</td>\n",
       "      <td>31.37</td>\n",
       "      <td>90-99</td>\n",
       "    </tr>\n",
       "    <tr>\n",
       "      <th>...</th>\n",
       "      <td>...</td>\n",
       "      <td>...</td>\n",
       "      <td>...</td>\n",
       "      <td>...</td>\n",
       "      <td>...</td>\n",
       "      <td>...</td>\n",
       "      <td>...</td>\n",
       "      <td>...</td>\n",
       "      <td>...</td>\n",
       "      <td>...</td>\n",
       "      <td>...</td>\n",
       "    </tr>\n",
       "    <tr>\n",
       "      <th>5817</th>\n",
       "      <td>Disney's Stitch: Experiment 626</td>\n",
       "      <td>PS2</td>\n",
       "      <td>2002</td>\n",
       "      <td>Action</td>\n",
       "      <td>Sony Computer Entertainment</td>\n",
       "      <td>0.15</td>\n",
       "      <td>0.12</td>\n",
       "      <td>0.00</td>\n",
       "      <td>0.04</td>\n",
       "      <td>0.31</td>\n",
       "      <td>00-09</td>\n",
       "    </tr>\n",
       "    <tr>\n",
       "      <th>5818</th>\n",
       "      <td>RPG Tsukuru 2</td>\n",
       "      <td>SNES</td>\n",
       "      <td>1996</td>\n",
       "      <td>Role-Playing</td>\n",
       "      <td>ASCII Entertainment</td>\n",
       "      <td>0.00</td>\n",
       "      <td>0.00</td>\n",
       "      <td>0.31</td>\n",
       "      <td>0.00</td>\n",
       "      <td>0.31</td>\n",
       "      <td>90-99</td>\n",
       "    </tr>\n",
       "    <tr>\n",
       "      <th>5819</th>\n",
       "      <td>Yuu Yuu Hakusho 2: Kakutou no Sho</td>\n",
       "      <td>SNES</td>\n",
       "      <td>1994</td>\n",
       "      <td>Fighting</td>\n",
       "      <td>Namco Bandai Games</td>\n",
       "      <td>0.00</td>\n",
       "      <td>0.00</td>\n",
       "      <td>0.31</td>\n",
       "      <td>0.00</td>\n",
       "      <td>0.31</td>\n",
       "      <td>90-99</td>\n",
       "    </tr>\n",
       "    <tr>\n",
       "      <th>5820</th>\n",
       "      <td>Orphen: Scion of Sorcery</td>\n",
       "      <td>PS2</td>\n",
       "      <td>2000</td>\n",
       "      <td>Role-Playing</td>\n",
       "      <td>Activision</td>\n",
       "      <td>0.15</td>\n",
       "      <td>0.12</td>\n",
       "      <td>0.00</td>\n",
       "      <td>0.04</td>\n",
       "      <td>0.31</td>\n",
       "      <td>00-09</td>\n",
       "    </tr>\n",
       "    <tr>\n",
       "      <th>5821</th>\n",
       "      <td>LEGO Legends of Chima: Laval's Journey</td>\n",
       "      <td>3DS</td>\n",
       "      <td>2013</td>\n",
       "      <td>Adventure</td>\n",
       "      <td>Warner Bros. Interactive Entertainment</td>\n",
       "      <td>0.18</td>\n",
       "      <td>0.10</td>\n",
       "      <td>0.00</td>\n",
       "      <td>0.03</td>\n",
       "      <td>0.31</td>\n",
       "      <td>10-20</td>\n",
       "    </tr>\n",
       "  </tbody>\n",
       "</table>\n",
       "<p>5736 rows × 11 columns</p>\n",
       "</div>"
      ],
      "text/plain": [
       "                                        name platform  year         genre  \\\n",
       "rank                                                                        \n",
       "1                                 Wii Sports      Wii  2006        Sports   \n",
       "2                          Super Mario Bros.      NES  1985      Platform   \n",
       "3                             Mario Kart Wii      Wii  2008        Racing   \n",
       "4                          Wii Sports Resort      Wii  2009        Sports   \n",
       "5                   Pokemon Red/Pokemon Blue       GB  1996  Role-Playing   \n",
       "...                                      ...      ...   ...           ...   \n",
       "5817         Disney's Stitch: Experiment 626      PS2  2002        Action   \n",
       "5818                           RPG Tsukuru 2     SNES  1996  Role-Playing   \n",
       "5819       Yuu Yuu Hakusho 2: Kakutou no Sho     SNES  1994      Fighting   \n",
       "5820                Orphen: Scion of Sorcery      PS2  2000  Role-Playing   \n",
       "5821  LEGO Legends of Chima: Laval's Journey      3DS  2013     Adventure   \n",
       "\n",
       "                                   publisher  na_sales  eu_sales  jp_sales  \\\n",
       "rank                                                                         \n",
       "1                                   Nintendo     41.49     29.02      3.77   \n",
       "2                                   Nintendo     29.08      3.58      6.81   \n",
       "3                                   Nintendo     15.85     12.88      3.79   \n",
       "4                                   Nintendo     15.75     11.01      3.28   \n",
       "5                                   Nintendo     11.27      8.89     10.22   \n",
       "...                                      ...       ...       ...       ...   \n",
       "5817             Sony Computer Entertainment      0.15      0.12      0.00   \n",
       "5818                     ASCII Entertainment      0.00      0.00      0.31   \n",
       "5819                      Namco Bandai Games      0.00      0.00      0.31   \n",
       "5820                              Activision      0.15      0.12      0.00   \n",
       "5821  Warner Bros. Interactive Entertainment      0.18      0.10      0.00   \n",
       "\n",
       "      other_sales  global_sales decade  \n",
       "rank                                    \n",
       "1            8.46         82.74  00-09  \n",
       "2            0.77         40.24  80-89  \n",
       "3            3.31         35.82  00-09  \n",
       "4            2.96         33.00  00-09  \n",
       "5            1.00         31.37  90-99  \n",
       "...           ...           ...    ...  \n",
       "5817         0.04          0.31  00-09  \n",
       "5818         0.00          0.31  90-99  \n",
       "5819         0.00          0.31  90-99  \n",
       "5820         0.04          0.31  00-09  \n",
       "5821         0.03          0.31  10-20  \n",
       "\n",
       "[5736 rows x 11 columns]"
      ]
     },
     "execution_count": 141,
     "metadata": {},
     "output_type": "execute_result"
    }
   ],
   "source": [
    "df_pop"
   ]
  },
  {
   "cell_type": "code",
   "execution_count": 142,
   "id": "e777345e",
   "metadata": {},
   "outputs": [],
   "source": [
    "df_pop = df_pop.replace(to_replace=['PS','PS2','PS3','PS4'], value='PlayStation')\n",
    "df_pop = df_pop.replace(to_replace=['XOne','X360','XB'], value='Xbox station')\n",
    "df_pop = df_pop.replace(to_replace=['Wii','WiiU','N64', 'SNES', 'NES'], value='Nintendo station')\n",
    "df_pop = df_pop.replace(to_replace=['GC','GEN','DC', 'SAT','2600', 'SCD'], value='Other stations')\n",
    "df_pop = df_pop.replace(to_replace=['GB','DS','GBA', '3DS','PSP','PSV','WS',], value='Portable consoles')"
   ]
  },
  {
   "cell_type": "code",
   "execution_count": 143,
   "id": "2e4b291b",
   "metadata": {},
   "outputs": [
    {
     "name": "stdout",
     "output_type": "stream",
     "text": [
      "Number of platforms: 6\n",
      "Types of platforms:\n",
      " ['Nintendo station' 'Portable consoles' 'Xbox station' 'PlayStation' 'PC'\n",
      " 'Other stations']\n"
     ]
    }
   ],
   "source": [
    "platforms = df_pop[cat_cols[0]].unique()\n",
    "print(\"Number of platforms:\",len(platforms))\n",
    "print(\"Types of platforms:\\n\",platforms)"
   ]
  },
  {
   "cell_type": "code",
   "execution_count": 144,
   "id": "34361aa7",
   "metadata": {},
   "outputs": [
    {
     "name": "stdout",
     "output_type": "stream",
     "text": [
      "Number of genres: 12\n",
      "Genres:\n",
      " ['Sports' 'Platform' 'Racing' 'Role-Playing' 'Puzzle' 'Misc' 'Shooter'\n",
      " 'Simulation' 'Action' 'Fighting' 'Adventure' 'Strategy']\n"
     ]
    }
   ],
   "source": [
    "genres = df_pop[cat_cols[1]].unique()\n",
    "print(\"Number of genres:\",len(genres))\n",
    "print(\"Genres:\\n\",genres)"
   ]
  },
  {
   "cell_type": "code",
   "execution_count": 145,
   "id": "141f1a7b",
   "metadata": {},
   "outputs": [
    {
     "name": "stdout",
     "output_type": "stream",
     "text": [
      "Number of publishers: 218\n",
      "Publishers:\n",
      " ['Nintendo' 'Microsoft Game Studios' 'Take-Two Interactive'\n",
      " 'Sony Computer Entertainment' 'Activision' 'Ubisoft' 'Bethesda Softworks'\n",
      " 'Electronic Arts' 'Sega' 'SquareSoft' 'Atari' '505 Games' 'Capcom'\n",
      " 'GT Interactive' 'Konami Digital Entertainment'\n",
      " 'Sony Computer Entertainment Europe' 'Square Enix' 'LucasArts'\n",
      " 'Virgin Interactive' 'Warner Bros. Interactive Entertainment'\n",
      " 'Universal Interactive' 'Eidos Interactive' 'RedOctane' 'Vivendi Games'\n",
      " 'Enix Corporation' 'Namco Bandai Games' 'Palcom' 'Hasbro Interactive'\n",
      " 'THQ' 'Fox Interactive' 'Acclaim Entertainment' 'MTV Games'\n",
      " 'Disney Interactive Studios' 'Majesco Entertainment' 'Codemasters'\n",
      " 'Red Orb' 'Level 5' 'Arena Entertainment' 'Midway Games' 'JVC'\n",
      " 'Deep Silver' '989 Studios' 'NCSoft' 'UEP Systems' 'Parker Bros.' 'Maxis'\n",
      " 'Imagic' 'Tecmo Koei' 'Valve Software' 'ASCII Entertainment' 'Mindscape'\n",
      " 'Infogrames' 'Unknown' 'Square' 'Valve' 'Activision Value' 'Banpresto'\n",
      " 'D3Publisher' 'Oxygen Interactive' 'Red Storm Entertainment'\n",
      " 'Video System' 'Hello Games' 'Global Star' 'Gotham Games'\n",
      " 'Westwood Studios' 'GungHo' 'Crave Entertainment' 'Hudson Soft' 'Coleco'\n",
      " 'Rising Star Games' 'Atlus' 'TDK Mediactive' 'ASC Games' 'Zoo Games'\n",
      " 'Accolade' 'Sony Online Entertainment' '3DO' 'RTL' 'Natsume'\n",
      " 'Focus Home Interactive' 'Alchemist' 'N/A' 'Black Label Games'\n",
      " 'SouthPeak Games' 'Mastertronic' 'Ocean' 'Zoo Digital Publishing'\n",
      " 'Psygnosis' 'City Interactive' 'Empire Interactive' 'Success' 'Compile'\n",
      " 'Russel' 'Taito' 'Agetec' 'GSP' 'Microprose' 'Play It'\n",
      " 'Slightly Mad Studios' 'Tomy Corporation' 'Sammy Corporation'\n",
      " 'Koch Media' 'Game Factory' 'Titus' 'Marvelous Entertainment' 'Genki'\n",
      " 'Mojang' 'Pinnacle' 'CTO SpA' 'TalonSoft' 'Crystal Dynamics' 'SCi'\n",
      " 'Quelle' 'mixi, Inc' 'Rage Software' 'Ubisoft Annecy' 'Scholastic Inc.'\n",
      " 'Interplay' 'Mystique' 'ChunSoft' 'Square EA'\n",
      " '20th Century Fox Video Games' 'Avanquest Software'\n",
      " 'Hudson Entertainment' 'Nordic Games' 'Men-A-Vision' 'Nobilis'\n",
      " 'Big Ben Interactive' 'Touchstone' 'Spike' 'Jester Interactive'\n",
      " 'Nippon Ichi Software' 'LEGO Media' 'Quest' 'Illusion Softworks'\n",
      " 'Tigervision' 'Funbox Media' 'Rocket Company' 'Metro 3D'\n",
      " 'Mattel Interactive' 'IE Institute' 'Rondomedia'\n",
      " 'Sony Computer Entertainment America' 'Universal Gamex' 'Ghostlight'\n",
      " 'Wizard Video Games' 'BMG Interactive Entertainment' 'PQube'\n",
      " 'Trion Worlds' 'Laguna' 'Ignition Entertainment' 'Takara'\n",
      " 'Kadokawa Shoten' 'Destineer' 'Enterbrain' 'Xseed Games' 'Imagineer'\n",
      " 'System 3 Arcade Software' 'CPG Products' 'Aruze Corp' 'Gamebridge'\n",
      " 'Midas Interactive Entertainment' 'Jaleco' 'Answer Software' 'XS Games'\n",
      " 'Activision Blizzard' 'Pack In Soft' 'Rebellion' 'Xplosiv'\n",
      " 'GameMill Entertainment' 'Wanadoo' 'NovaLogic' 'Telltale Games' 'Epoch'\n",
      " 'BAM! Entertainment' 'Knowledge Adventure' 'Mastiff' 'Tetris Online'\n",
      " 'Harmonix Music Systems' 'ESP' 'TYO' 'Telegames' 'Mud Duck Productions'\n",
      " 'Screenlife' 'Pioneer LDC' 'Magical Company' 'Mentor Interactive' 'Kemco'\n",
      " 'Human Entertainment' 'Avanquest' 'Data Age' 'Electronic Arts Victor'\n",
      " 'Black Bean Games' 'Jack of All Games' '989 Sports' 'Takara Tomy'\n",
      " 'Media Rings' 'Elf' 'Starfish' 'Zushi Games' 'Jorudan'\n",
      " 'Destination Software, Inc' 'New' 'Brash Entertainment'\n",
      " 'ITT Family Games' 'PopCap Games' 'Home Entertainment Suppliers'\n",
      " 'Ackkstudios' 'Starpath Corp.' 'P2 Games' 'BPS' 'Gathering of Developers'\n",
      " 'NewKidCo' 'Storm City Games' 'CokeM Interactive' 'CBS Electronics'\n",
      " 'Magix' 'Marvelous Interactive']\n"
     ]
    }
   ],
   "source": [
    "publishers = df_pop[cat_cols[2]].unique()\n",
    "print(\"Number of publishers:\",len(publishers))\n",
    "print(\"Publishers:\\n\",publishers)"
   ]
  },
  {
   "cell_type": "code",
   "execution_count": 146,
   "id": "24705fc3",
   "metadata": {},
   "outputs": [
    {
     "name": "stdout",
     "output_type": "stream",
     "text": [
      "Number of years: 37\n",
      "Years:\n",
      " [1980, 1981, 1982, 1983, 1984, 1985, 1986, 1987, 1988, 1989, 1990, 1991, 1992, 1993, 1994, 1995, 1996, 1997, 1998, 1999, 2000, 2001, 2002, 2003, 2004, 2005, 2006, 2007, 2008, 2009, 2010, 2011, 2012, 2013, 2014, 2015, 2016]\n"
     ]
    }
   ],
   "source": [
    "years = df_pop['year'].unique()\n",
    "print(\"Number of years:\",len(years))\n",
    "print(\"Years:\\n\",sorted(years))"
   ]
  },
  {
   "cell_type": "code",
   "execution_count": 147,
   "id": "16571a52",
   "metadata": {},
   "outputs": [],
   "source": [
    "cols = ['name','platform','year','genre','publisher','na_sales','eu_sales' 'jp_sales','other_sales','global_sales']"
   ]
  },
  {
   "cell_type": "code",
   "execution_count": 148,
   "id": "ad02ff24",
   "metadata": {},
   "outputs": [],
   "source": [
    "df_platforms = []\n",
    "for a in range(len(platforms)):\n",
    "    for b in range(len(genres)):\n",
    "        row = [platforms[a],genres[b],sum(df_pop[(df_pop.platform==platforms[a]) & (df_pop.genre==genres[b])]['global_sales'])]\n",
    "        df_platforms.append(row)\n"
   ]
  },
  {
   "cell_type": "code",
   "execution_count": 149,
   "id": "d860be8a",
   "metadata": {},
   "outputs": [],
   "source": [
    "df_platforms=np.array(df_platforms)\n",
    "df_platforms=pd.DataFrame(data = df_platforms,  \n",
    "                  index = range(len(df_platforms)),  \n",
    "                  columns = ['platform', 'genre','gs_sum']) \n",
    "df_platforms.gs_sum = pd.to_numeric(df_platforms.gs_sum)"
   ]
  },
  {
   "cell_type": "code",
   "execution_count": 150,
   "id": "1e92a854",
   "metadata": {},
   "outputs": [
    {
     "data": {
      "text/html": [
       "<div>\n",
       "<style scoped>\n",
       "    .dataframe tbody tr th:only-of-type {\n",
       "        vertical-align: middle;\n",
       "    }\n",
       "\n",
       "    .dataframe tbody tr th {\n",
       "        vertical-align: top;\n",
       "    }\n",
       "\n",
       "    .dataframe thead th {\n",
       "        text-align: right;\n",
       "    }\n",
       "</style>\n",
       "<table border=\"1\" class=\"dataframe\">\n",
       "  <thead>\n",
       "    <tr style=\"text-align: right;\">\n",
       "      <th></th>\n",
       "      <th>gs_sum</th>\n",
       "    </tr>\n",
       "  </thead>\n",
       "  <tbody>\n",
       "    <tr>\n",
       "      <th>count</th>\n",
       "      <td>72.000000</td>\n",
       "    </tr>\n",
       "    <tr>\n",
       "      <th>mean</th>\n",
       "      <td>106.697222</td>\n",
       "    </tr>\n",
       "    <tr>\n",
       "      <th>std</th>\n",
       "      <td>136.890937</td>\n",
       "    </tr>\n",
       "    <tr>\n",
       "      <th>min</th>\n",
       "      <td>0.000000</td>\n",
       "    </tr>\n",
       "    <tr>\n",
       "      <th>25%</th>\n",
       "      <td>16.897500</td>\n",
       "    </tr>\n",
       "    <tr>\n",
       "      <th>50%</th>\n",
       "      <td>45.985000</td>\n",
       "    </tr>\n",
       "    <tr>\n",
       "      <th>75%</th>\n",
       "      <td>160.772500</td>\n",
       "    </tr>\n",
       "    <tr>\n",
       "      <th>max</th>\n",
       "      <td>725.990000</td>\n",
       "    </tr>\n",
       "  </tbody>\n",
       "</table>\n",
       "</div>"
      ],
      "text/plain": [
       "           gs_sum\n",
       "count   72.000000\n",
       "mean   106.697222\n",
       "std    136.890937\n",
       "min      0.000000\n",
       "25%     16.897500\n",
       "50%     45.985000\n",
       "75%    160.772500\n",
       "max    725.990000"
      ]
     },
     "execution_count": 150,
     "metadata": {},
     "output_type": "execute_result"
    }
   ],
   "source": [
    "df_platforms.describe()"
   ]
  },
  {
   "cell_type": "code",
   "execution_count": 151,
   "id": "2a0a1952",
   "metadata": {},
   "outputs": [
    {
     "data": {
      "image/png": "[encoded data removed]",
      "text/plain": [
       "<Figure size 1152x1152 with 6 Axes>"
      ]
     },
     "metadata": {
      "needs_background": "light"
     },
     "output_type": "display_data"
    }
   ],
   "source": [
    "h=3\n",
    "w=2\n",
    "fig, axs = plt.subplots(h, w, figsize=(16, 16))\n",
    "z=0\n",
    "for i in range(0,h):\n",
    "    for j in range(0,w):\n",
    "        df1 = df_platforms[df_platforms.platform==platforms[z]]\n",
    "        df1.set_index('genre', inplace=True)\n",
    "        df1.plot.bar(ax=axs[i,j], title=platforms[z], rot=30)\n",
    "        z+=1\n",
    "fig.savefig(\"plt1.jpeg\")     \n",
    "plt.show()"
   ]
  },
  {
   "cell_type": "code",
   "execution_count": 152,
   "id": "b1c3f1e3",
   "metadata": {},
   "outputs": [],
   "source": [
    "df_genre_reg = df_pop[['genre','na_sales','eu_sales','jp_sales']].groupby(['genre']).sum()"
   ]
  },
  {
   "cell_type": "code",
   "execution_count": 153,
   "id": "3efcfe54",
   "metadata": {},
   "outputs": [
    {
     "data": {
      "text/html": [
       "<div>\n",
       "<style scoped>\n",
       "    .dataframe tbody tr th:only-of-type {\n",
       "        vertical-align: middle;\n",
       "    }\n",
       "\n",
       "    .dataframe tbody tr th {\n",
       "        vertical-align: top;\n",
       "    }\n",
       "\n",
       "    .dataframe thead th {\n",
       "        text-align: right;\n",
       "    }\n",
       "</style>\n",
       "<table border=\"1\" class=\"dataframe\">\n",
       "  <thead>\n",
       "    <tr style=\"text-align: right;\">\n",
       "      <th></th>\n",
       "      <th>na_sales</th>\n",
       "      <th>eu_sales</th>\n",
       "      <th>jp_sales</th>\n",
       "    </tr>\n",
       "    <tr>\n",
       "      <th>genre</th>\n",
       "      <th></th>\n",
       "      <th></th>\n",
       "      <th></th>\n",
       "    </tr>\n",
       "  </thead>\n",
       "  <tbody>\n",
       "    <tr>\n",
       "      <th>Action</th>\n",
       "      <td>746.77</td>\n",
       "      <td>466.21</td>\n",
       "      <td>112.73</td>\n",
       "    </tr>\n",
       "    <tr>\n",
       "      <th>Adventure</th>\n",
       "      <td>71.76</td>\n",
       "      <td>48.33</td>\n",
       "      <td>21.34</td>\n",
       "    </tr>\n",
       "    <tr>\n",
       "      <th>Fighting</th>\n",
       "      <td>197.58</td>\n",
       "      <td>90.66</td>\n",
       "      <td>65.66</td>\n",
       "    </tr>\n",
       "    <tr>\n",
       "      <th>Misc</th>\n",
       "      <td>332.24</td>\n",
       "      <td>190.73</td>\n",
       "      <td>77.76</td>\n",
       "    </tr>\n",
       "    <tr>\n",
       "      <th>Platform</th>\n",
       "      <td>413.70</td>\n",
       "      <td>187.81</td>\n",
       "      <td>125.15</td>\n",
       "    </tr>\n",
       "    <tr>\n",
       "      <th>Puzzle</th>\n",
       "      <td>100.20</td>\n",
       "      <td>42.79</td>\n",
       "      <td>50.63</td>\n",
       "    </tr>\n",
       "    <tr>\n",
       "      <th>Racing</th>\n",
       "      <td>306.28</td>\n",
       "      <td>211.32</td>\n",
       "      <td>51.36</td>\n",
       "    </tr>\n",
       "    <tr>\n",
       "      <th>Role-Playing</th>\n",
       "      <td>292.03</td>\n",
       "      <td>172.39</td>\n",
       "      <td>298.00</td>\n",
       "    </tr>\n",
       "    <tr>\n",
       "      <th>Shooter</th>\n",
       "      <td>534.06</td>\n",
       "      <td>289.86</td>\n",
       "      <td>30.59</td>\n",
       "    </tr>\n",
       "    <tr>\n",
       "      <th>Simulation</th>\n",
       "      <td>149.96</td>\n",
       "      <td>102.54</td>\n",
       "      <td>51.37</td>\n",
       "    </tr>\n",
       "    <tr>\n",
       "      <th>Sports</th>\n",
       "      <td>580.65</td>\n",
       "      <td>339.27</td>\n",
       "      <td>97.82</td>\n",
       "    </tr>\n",
       "    <tr>\n",
       "      <th>Strategy</th>\n",
       "      <td>53.07</td>\n",
       "      <td>33.86</td>\n",
       "      <td>31.14</td>\n",
       "    </tr>\n",
       "  </tbody>\n",
       "</table>\n",
       "</div>"
      ],
      "text/plain": [
       "              na_sales  eu_sales  jp_sales\n",
       "genre                                     \n",
       "Action          746.77    466.21    112.73\n",
       "Adventure        71.76     48.33     21.34\n",
       "Fighting        197.58     90.66     65.66\n",
       "Misc            332.24    190.73     77.76\n",
       "Platform        413.70    187.81    125.15\n",
       "Puzzle          100.20     42.79     50.63\n",
       "Racing          306.28    211.32     51.36\n",
       "Role-Playing    292.03    172.39    298.00\n",
       "Shooter         534.06    289.86     30.59\n",
       "Simulation      149.96    102.54     51.37\n",
       "Sports          580.65    339.27     97.82\n",
       "Strategy         53.07     33.86     31.14"
      ]
     },
     "execution_count": 153,
     "metadata": {},
     "output_type": "execute_result"
    }
   ],
   "source": [
    "df_genre_reg\n"
   ]
  },
  {
   "cell_type": "code",
   "execution_count": 154,
   "id": "aac5afdb",
   "metadata": {},
   "outputs": [
    {
     "data": {
      "text/plain": [
       "<Axes: title={'center': 'Genre preferences by region'}, xlabel='genre'>"
      ]
     },
     "execution_count": 154,
     "metadata": {},
     "output_type": "execute_result"
    },
    {
     "data": {
      "image/png": "[encoded data removed]",
      "text/plain": [
       "<Figure size 720x720 with 1 Axes>"
      ]
     },
     "metadata": {
      "needs_background": "light"
     },
     "output_type": "display_data"
    }
   ],
   "source": [
    "df_genre_reg.plot.bar(figsize=(10,10),title='Genre preferences by region',rot=0)\n",
    "  "
   ]
  },
  {
   "cell_type": "code",
   "execution_count": 155,
   "id": "aed2fd25",
   "metadata": {},
   "outputs": [
    {
     "data": {
      "image/png": "[encoded data removed]",
      "text/plain": [
       "<Figure size 1080x1080 with 3 Axes>"
      ]
     },
     "metadata": {
      "needs_background": "light"
     },
     "output_type": "display_data"
    }
   ],
   "source": [
    "decades = [ '90-99' ,'00-09' ,'10-20']\n",
    "fig, axs = plt.subplots(3, 1, figsize=(15, 15))\n",
    "for i in range(len(decades)):\n",
    "    df1 = df_pop[['publisher','global_sales']][df_pop.decade==decades[i]]\n",
    "    df2=df1.groupby(['publisher']).sum()\n",
    "    df3=df2.sort_values(by=['global_sales'], ascending=False)\n",
    "    df4=df3.head(10)\n",
    "    df4.plot.bar(ax=axs[i],rot=20, title='decade '+decades[i], xlabel='')\n",
    "fig.savefig('plt3.jpeg')\n",
    "plt.show()"
   ]
  },
  {
   "cell_type": "code",
   "execution_count": 156,
   "id": "27f7ce2a",
   "metadata": {},
   "outputs": [
    {
     "data": {
      "image/png": "[encoded data removed]",
      "text/plain": [
       "<Figure size 1080x1080 with 3 Axes>"
      ]
     },
     "metadata": {
      "needs_background": "light"
     },
     "output_type": "display_data"
    }
   ],
   "source": [
    "decades = [ '90-99' ,'00-09' ,'10-20']\n",
    "fig, axs = plt.subplots(3, 1, figsize=(15, 15))\n",
    "for i in range(len(decades)):\n",
    "    df1 = df_pop[['genre','global_sales']][df_pop.decade==decades[i]]\n",
    "    df2=df1.groupby(['genre']).sum()\n",
    "    df3=df2.sort_values(by=['global_sales'], ascending=False)\n",
    "    df4=df3.head(10)\n",
    "    df4.plot.bar(ax=axs[i],rot=20, title='decade '+decades[i], xlabel='')\n",
    "fig.savefig('plt4.jpeg')\n",
    "plt.show()"
   ]
  },
  {
   "cell_type": "code",
   "execution_count": null,
   "id": "16f3d801",
   "metadata": {},
   "outputs": [],
   "source": []
  }
 ],
 "metadata": {
  "kernelspec": {
   "display_name": "Python 3 (ipykernel)",
   "language": "python",
   "name": "python3"
  },
  "language_info": {
   "codemirror_mode": {
    "name": "ipython",
    "version": 3
   },
   "file_extension": ".py",
   "mimetype": "text/x-python",
   "name": "python",
   "nbconvert_exporter": "python",
   "pygments_lexer": "ipython3",
   "version": "3.11.5"
  }
 },
 "nbformat": 4,
 "nbformat_minor": 5
}
